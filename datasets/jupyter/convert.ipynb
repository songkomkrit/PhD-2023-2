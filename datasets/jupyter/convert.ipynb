{
 "cells": [
  {
   "cell_type": "markdown",
   "id": "37542a6f-d806-432b-8619-f679148f7533",
   "metadata": {},
   "source": [
    "# Setup"
   ]
  },
  {
   "cell_type": "code",
   "execution_count": 1,
   "id": "af3d7f51-a1af-48c0-8715-06b0833da690",
   "metadata": {},
   "outputs": [],
   "source": [
    "import os\n",
    "import json\n",
    "import re\n",
    "import pandas as pd\n",
    "import pyarrow\n",
    "from sklearn.preprocessing import LabelEncoder"
   ]
  },
  {
   "cell_type": "code",
   "execution_count": 2,
   "id": "1749068c-f952-430b-a75f-6595577dd73b",
   "metadata": {},
   "outputs": [],
   "source": [
    "def create_dir(dir):\n",
    "    try:\n",
    "       os.makedirs(dir)\n",
    "    except FileExistsError:\n",
    "       pass"
   ]
  },
  {
   "cell_type": "code",
   "execution_count": 3,
   "id": "e1a3d492-79be-4b28-9651-02ef56459eae",
   "metadata": {},
   "outputs": [],
   "source": [
    "def import_dict(metadatapath):\n",
    "    with open(metadatapath) as myfile:\n",
    "    \tindep_contents = myfile.read()\n",
    "    return json.loads(indep_contents)"
   ]
  },
  {
   "cell_type": "code",
   "execution_count": 4,
   "id": "9d3c6db1-bc86-4bc5-9d06-f4865f59a488",
   "metadata": {},
   "outputs": [],
   "source": [
    "def extract_dict_cat(indep_dict):\n",
    "    return {attr: info for (attr, info) in indep_dict.items() if indep_dict[attr]['type'] == 'Categorical'}\n",
    "\n",
    "def extract_dict_cont(indep_dict):\n",
    "    return {attr: info for (attr, info) in indep_dict.items() if indep_dict[attr]['type'] == 'Continuous'}"
   ]
  },
  {
   "cell_type": "code",
   "execution_count": 5,
   "id": "9049e5e1-cb9b-4d8b-867e-65e0d81c6274",
   "metadata": {},
   "outputs": [],
   "source": [
    "def sort_cols(df_indep, indep_dict):\n",
    "    sorted_cols = sorted(df_indep.head(), \n",
    "                         key=lambda attr: indep_dict_enc[attr]['type'],\n",
    "                         reverse=True)\n",
    "    return df_indep[sorted_cols]"
   ]
  },
  {
   "cell_type": "code",
   "execution_count": 6,
   "id": "35e32971-1bfd-4f5d-bf5d-58cf13fc3839",
   "metadata": {},
   "outputs": [],
   "source": [
    "def indep_info(df_indep, indep_dict):\n",
    "    df_info = pd.DataFrame({'variable': df_indep.head().columns})\n",
    "    df_info['type'] = df_info['variable'].apply(lambda attr: indep_dict[attr]['type'])\n",
    "    minmax = df_indep.agg(['min','max']).values.tolist()\n",
    "    df_info['min'] = minmax[0]\n",
    "    df_info['max'] = minmax[1]\n",
    "    del minmax\n",
    "    return df_info\n",
    "\n",
    "def count_info(df_info):\n",
    "    df_count = df_info.groupby('type').count().reset_index()[['type','variable']]\n",
    "    df_count.rename(columns = {'variable': 'count'}, inplace=True)\n",
    "    df_count.sort_values('type', ascending=False, inplace=True, ignore_index=True)\n",
    "    return df_count"
   ]
  },
  {
   "cell_type": "code",
   "execution_count": 7,
   "id": "1d26b92d-8fcc-45ce-9c03-77e23f630b3e",
   "metadata": {},
   "outputs": [],
   "source": [
    "def export_json(dictfile, jsonfile):\n",
    "    with open(jsonfile, 'w', encoding='utf-8') as f:\n",
    "        json.dump(dictfile, f, ensure_ascii=False, indent=4)\n",
    "\n",
    "def export_txt(string, txtfile):\n",
    "    f = open(txtfile, 'w')\n",
    "    f.write(string)\n",
    "    f.close()"
   ]
  },
  {
   "cell_type": "code",
   "execution_count": 8,
   "id": "a55c42e7-f551-4a6d-8e56-037048c81c0c",
   "metadata": {},
   "outputs": [],
   "source": [
    "@pd.api.extensions.register_dataframe_accessor(\"data\")\n",
    "class Data:\n",
    "    def __init__(self, pandas_obj, indep_dict):\n",
    "        self.dataset = pandas_obj\n",
    "        self.metadata = indep_dict\n",
    "    \n",
    "    def encodecat(self):\n",
    "        cat_change = \"\"\n",
    "        for attr in self.metadata.keys():\n",
    "            if self.metadata[attr]['type'] == 'Categorical':\n",
    "                le = LabelEncoder()\n",
    "                le.fit(self.dataset[attr])\n",
    "                self.dataset[attr] = list(le.transform(self.dataset[attr]).astype('int8'))\n",
    "                newkeys = list()\n",
    "                unseen = 0\n",
    "                for strval in self.metadata[attr]['values'].keys():\n",
    "                    try:\n",
    "                        newkeys.append(int(le.transform([int(strval)])))\n",
    "                    except ValueError: # for previously unseen labels\n",
    "                        unseen -= 1\n",
    "                        newkeys.append(unseen)\n",
    "                if list(self.metadata[attr]['values'].keys()) != newkeys:\n",
    "                    cat_change += attr+\"\\n\"\n",
    "                newdict = {key: val for key, val in zip(newkeys, self.metadata[attr]['values'].values())}\n",
    "                self.metadata[attr]['values'] = newdict\n",
    "        return cat_change[0:-1]\n",
    "    \n",
    "    def encodecont(self):\n",
    "        pattern = r'(^|[^\\w])(niu|universe)([^\\w]|$)'\n",
    "        pattern = re.compile(pattern, re.IGNORECASE)\n",
    "        cont_nonpos = \"\"\n",
    "        for attr in self.metadata.keys():\n",
    "            if self.metadata[attr]['type'] == 'Continuous':\n",
    "                flag = False\n",
    "                for strval in self.metadata[attr]['values'].keys():\n",
    "                    if not flag:\n",
    "                        try:\n",
    "                            if int(strval) <= 0:\n",
    "                                text = self.metadata[attr]['values'][strval]\n",
    "                                matches = re.search(pattern, text.replace(',', ' ').lower())\n",
    "                                if bool(matches):\n",
    "                                    flag = True\n",
    "                                    cont_nonpos += attr+\"\\n\"\n",
    "                                    self.dataset[attr] = self.dataset[attr].apply(lambda v: 0 if v < 0 else v)\n",
    "                                    break\n",
    "                        except:\n",
    "                            pass\n",
    "                    if flag:\n",
    "                        try:\n",
    "                            if int(strval) <= 0:\n",
    "                                self.metadata[attr]['values'].pop(strval, None)\n",
    "                        except:\n",
    "                            pass\n",
    "                if flag:\n",
    "                    self.metadata[attr]['values']['0'] = 'NIU'\n",
    "        return cont_nonpos[0:-1]"
   ]
  },
  {
   "cell_type": "markdown",
   "id": "6cdeaa5f-8c3a-4ebc-b2cb-7e9771a179fb",
   "metadata": {},
   "source": [
    "# Given Information"
   ]
  },
  {
   "cell_type": "code",
   "execution_count": 9,
   "id": "04005d59-b1f4-4c48-9778-28ffa5803931",
   "metadata": {},
   "outputs": [],
   "source": [
    "year = 20"
   ]
  },
  {
   "cell_type": "code",
   "execution_count": 10,
   "id": "d4557842-fa08-4bdd-b0d3-c2bfc061887f",
   "metadata": {},
   "outputs": [],
   "source": [
    "indep_dict = import_dict(metadatapath=f\"../metadata/full/meta-indep-{year}.json\")\n",
    "dep_attrs = ['GRP', 'DIR', 'PUB']"
   ]
  },
  {
   "cell_type": "code",
   "execution_count": 11,
   "id": "790de0c6-0678-4c8d-a0cc-7d3c5aab53bf",
   "metadata": {},
   "outputs": [],
   "source": [
    "class_attrs = ['class_orig','code_orig','code','class']"
   ]
  },
  {
   "cell_type": "markdown",
   "id": "1e741b5e-3b69-4915-b8b3-18e92ccd5a1f",
   "metadata": {},
   "source": [
    "# Created Directories"
   ]
  },
  {
   "cell_type": "code",
   "execution_count": 12,
   "id": "a05ecb43-8fc4-44d9-926f-411e0d73fb55",
   "metadata": {},
   "outputs": [],
   "source": [
    "create_dir(\"../encode\")\n",
    "create_dir(\"../metadata/new\")\n",
    "create_dir(\"../processed\")\n",
    "create_dir(\"../info\")"
   ]
  },
  {
   "cell_type": "markdown",
   "id": "f075cb6b-3b8d-4546-8efc-747269174297",
   "metadata": {},
   "source": [
    "# Exported Useful Information"
   ]
  },
  {
   "cell_type": "code",
   "execution_count": 13,
   "id": "9cb2f5ee-f4bd-41aa-9e93-5970ccb8a49d",
   "metadata": {},
   "outputs": [],
   "source": [
    "export_json(extract_dict_cat(indep_dict), f\"../metadata/full/meta-indep-cat-{year}.json\")\n",
    "export_json(extract_dict_cont(indep_dict), f\"../metadata/full/meta-indep-cont-{year}.json\")"
   ]
  },
  {
   "cell_type": "code",
   "execution_count": 14,
   "id": "eb41be5c-d82e-4bec-949c-9391ce876a87",
   "metadata": {},
   "outputs": [],
   "source": [
    "if not os.path.isfile(f\"../original/pppub{year}.csv\"):\n",
    "    df.to_csv(f\"../original/pppub{year}.csv\", index=False)"
   ]
  },
  {
   "cell_type": "markdown",
   "id": "9d062d55-68c5-4ac8-802c-f3aceb8f5fb8",
   "metadata": {},
   "source": [
    "# Encoded Dataset and Dictionary"
   ]
  },
  {
   "cell_type": "code",
   "execution_count": 15,
   "id": "b9dfff1e-8325-4cd2-a5cf-0e4bbc01489e",
   "metadata": {},
   "outputs": [],
   "source": [
    "df = pd.read_feather(f\"../original/pppub{year}.feature\")\n",
    "data_obj = Data(df.copy(), indep_dict.copy())"
   ]
  },
  {
   "cell_type": "code",
   "execution_count": 16,
   "id": "ffa2afcf-14a7-42df-bf82-196921e6152c",
   "metadata": {},
   "outputs": [],
   "source": [
    "cat_var_change = data_obj.encodecat()\n",
    "cont_var_nonpos = data_obj.encodecont()"
   ]
  },
  {
   "cell_type": "code",
   "execution_count": 17,
   "id": "414952ef-8ecf-4bc1-bbdf-4a24ca486c48",
   "metadata": {},
   "outputs": [],
   "source": [
    "df_enc = data_obj.dataset\n",
    "indep_dict_enc = data_obj.metadata"
   ]
  },
  {
   "cell_type": "markdown",
   "id": "14f42234-f7ba-4d7c-9472-0ca99cbef1bc",
   "metadata": {},
   "source": [
    "# Processed Dataset"
   ]
  },
  {
   "cell_type": "code",
   "execution_count": 18,
   "id": "311c5291-703f-4ddb-8544-9a054a8067e3",
   "metadata": {},
   "outputs": [],
   "source": [
    "df_proc_enc = df_enc.drop(columns=['COV']+dep_attrs+class_attrs)\n",
    "df_proc_enc = sort_cols(df_proc_enc, indep_dict_enc).join(df_enc['class'])"
   ]
  },
  {
   "cell_type": "code",
   "execution_count": 19,
   "id": "172e8469-01a3-47fb-8dae-116a806d26d2",
   "metadata": {},
   "outputs": [],
   "source": [
    "# Index starts at 0\n",
    "df_proc_info = indep_info(df_proc_enc.loc[:, df_proc_enc.columns != 'class'],\n",
    "                          indep_dict_enc)"
   ]
  },
  {
   "cell_type": "code",
   "execution_count": 20,
   "id": "e8ccf238-f346-47a6-9ef1-e4dda85551f4",
   "metadata": {},
   "outputs": [],
   "source": [
    "df_count_info = count_info(df_proc_info)"
   ]
  },
  {
   "cell_type": "markdown",
   "id": "fec9a0b2-616d-4bc3-993f-ff5865fc7023",
   "metadata": {},
   "source": [
    "# Exported Results"
   ]
  },
  {
   "cell_type": "code",
   "execution_count": 21,
   "id": "8c1b1907-a5e3-4808-8db0-17f6d3e8f729",
   "metadata": {},
   "outputs": [],
   "source": [
    "df_enc.to_feather(f\"../encode/pppub{year}enc.feature\")\n",
    "df_enc.to_csv(f\"../encode/pppub{year}enc.csv\", index=False)\n",
    "export_json(extract_dict_cat(indep_dict_enc), f\"../metadata/new/meta-indep-cat-{year}-enc.json\")"
   ]
  },
  {
   "cell_type": "code",
   "execution_count": 22,
   "id": "1411dbea-ca3f-4878-a58b-5759d244619b",
   "metadata": {},
   "outputs": [],
   "source": [
    "df_proc_enc.to_csv(f\"../processed/proc{year}enc.csv\", header=True, index=False)\n",
    "df_proc_enc.to_csv(f\"../processed/proc{year}encnoh.csv\", header=False, index=False)"
   ]
  },
  {
   "cell_type": "code",
   "execution_count": 23,
   "id": "e7ffab53-300d-47bc-9b74-d71e980bcd07",
   "metadata": {},
   "outputs": [],
   "source": [
    "# Index starts at 1\n",
    "df_proc_info.index = df_proc_info.index + 1\n",
    "df_proc_info.to_csv(f\"../info/proc{year}info.csv\", index_label=\"id\")\n",
    "df_proc_info.to_csv(f\"../info/proc{year}infonoh.csv\", index_label=\"id\", header=False)\n",
    "df_count_info.to_csv(f\"../info/proc{year}countinfo.csv\", header=True, index=False)"
   ]
  },
  {
   "cell_type": "code",
   "execution_count": 24,
   "id": "6543836a-e820-480f-8269-dc41663a5ea3",
   "metadata": {},
   "outputs": [],
   "source": [
    "export_txt(cat_var_change, f\"../metadata/new/cat-change-{year}.txt\")\n",
    "export_txt(cont_var_nonpos, f\"../metadata/new/cont-nonpos-{year}.txt\")"
   ]
  }
 ],
 "metadata": {
  "kernelspec": {
   "display_name": "Python 3 (ipykernel)",
   "language": "python",
   "name": "python3"
  },
  "language_info": {
   "codemirror_mode": {
    "name": "ipython",
    "version": 3
   },
   "file_extension": ".py",
   "mimetype": "text/x-python",
   "name": "python",
   "nbconvert_exporter": "python",
   "pygments_lexer": "ipython3",
   "version": "3.12.4"
  }
 },
 "nbformat": 4,
 "nbformat_minor": 5
}
