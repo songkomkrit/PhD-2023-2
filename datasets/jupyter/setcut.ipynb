{
 "cells": [
  {
   "cell_type": "markdown",
   "id": "34ba0168-5501-4f47-abc5-d62836099c9d",
   "metadata": {},
   "source": [
    "# Setup"
   ]
  },
  {
   "cell_type": "code",
   "execution_count": 1,
   "id": "f0f65f79-8817-48f3-b422-d07fda232adb",
   "metadata": {},
   "outputs": [],
   "source": [
    "import os\n",
    "import pandas as pd"
   ]
  },
  {
   "cell_type": "code",
   "execution_count": 2,
   "id": "f9909406-1146-4751-bc5a-5e3d2e178138",
   "metadata": {},
   "outputs": [],
   "source": [
    "def create_dir(dir):\n",
    "    try:\n",
    "       os.makedirs(dir)\n",
    "    except FileExistsError:\n",
    "       pass"
   ]
  },
  {
   "cell_type": "code",
   "execution_count": 3,
   "id": "e76fab39-551b-4c9b-b7dd-6de70d608f0e",
   "metadata": {},
   "outputs": [
    {
     "name": "stderr",
     "output_type": "stream",
     "text": [
      "/tmp/ipykernel_1145493/406155923.py:1: UserWarning: registration of accessor <class '__main__.Info'> under name 'info' for type <class 'pandas.core.frame.DataFrame'> is overriding a preexisting attribute with the same name.\n",
      "  @pd.api.extensions.register_dataframe_accessor(\"info\")\n"
     ]
    }
   ],
   "source": [
    "@pd.api.extensions.register_dataframe_accessor(\"info\")\n",
    "class Info:\n",
    "    def __init__(self, pandas_obj):\n",
    "        self._validate(pandas_obj, ['id', 'variable', 'type', 'min', 'max'])\n",
    "        self.dataset = pandas_obj\n",
    "    \n",
    "    @staticmethod\n",
    "    def _validate(obj, cols):\n",
    "        if any(x not in obj.columns for x in cols):\n",
    "            raise AttributeError(\"Some attributes are missing\")\n",
    "\n",
    "    def setcut(self, pcont, pcatmax):\n",
    "        self.dataset['cut'] = 0\n",
    "        self.dataset.loc[self.dataset['type'] == 'Continuous', 'cut'] = pcont\n",
    "        self.dataset.loc[self.dataset['type'] == 'Categorical', 'cut'] = self.dataset['max'].map(lambda v: min(v, pcatmax))    "
   ]
  },
  {
   "cell_type": "markdown",
   "id": "956d90d3-1179-42d0-801f-b0d6cad043a4",
   "metadata": {},
   "source": [
    "# Given Information"
   ]
  },
  {
   "cell_type": "code",
   "execution_count": 4,
   "id": "99b60a3d-e223-49ad-9af8-993b4c4d1929",
   "metadata": {},
   "outputs": [],
   "source": [
    "pcont = 2\n",
    "pcatmax = 2"
   ]
  },
  {
   "cell_type": "code",
   "execution_count": 5,
   "id": "bf63b5cc-46f2-47f4-8aec-a815567590dd",
   "metadata": {},
   "outputs": [],
   "source": [
    "year = 20\n",
    "sel_num = 8"
   ]
  },
  {
   "cell_type": "markdown",
   "id": "5c80d7d9-c94d-4387-9a78-c44b4e62f184",
   "metadata": {},
   "source": [
    "# Created Directories"
   ]
  },
  {
   "cell_type": "code",
   "execution_count": 6,
   "id": "911c72c0-c20a-43f0-a591-a4dd48771b88",
   "metadata": {},
   "outputs": [],
   "source": [
    "create_dir(\"../info\")\n",
    "create_dir(\"../model\")\n",
    "create_dir(\"../select/cuts\")"
   ]
  },
  {
   "cell_type": "markdown",
   "id": "061154c3-7314-49ea-87c7-d295794465e8",
   "metadata": {},
   "source": [
    "# Implementation"
   ]
  },
  {
   "cell_type": "code",
   "execution_count": 7,
   "id": "c84e68a1-5e24-4218-94db-2252c2e47b2d",
   "metadata": {},
   "outputs": [],
   "source": [
    "maincutname = f\"proc{year}co{pcont}ca{pcatmax}cutinfo\"\n",
    "df_proc = pd.read_csv(f\"../info/proc{year}info.csv\")\n",
    "df_proc.info.setcut(pcont, pcatmax)\n",
    "df_proc.to_csv(f\"../model/{maincutname}.csv\", header=True, index=False)\n",
    "df_proc.to_csv(f\"../model/{maincutname}noh.csv\", header=False, index=False)"
   ]
  },
  {
   "cell_type": "code",
   "execution_count": 8,
   "id": "d8efe0e7-52b0-453c-8a9f-7f22299fa803",
   "metadata": {},
   "outputs": [],
   "source": [
    "selmaincutname = f\"selproc{year}num{sel_num}co{pcont}ca{pcatmax}cutinfo\"\n",
    "df_sel_proc = pd.read_csv(f\"../select/proc/selproc{year}num{sel_num}info.csv\")\n",
    "df_sel_proc.info.setcut(pcont, pcatmax)\n",
    "df_sel_proc.to_csv(f\"../select/cuts/{selmaincutname}.csv\", header=True, index=False)\n",
    "df_sel_proc.to_csv(f\"../select/cuts/{selmaincutname}noh.csv\", header=False, index=False)"
   ]
  }
 ],
 "metadata": {
  "kernelspec": {
   "display_name": "Python 3 (ipykernel)",
   "language": "python",
   "name": "python3"
  },
  "language_info": {
   "codemirror_mode": {
    "name": "ipython",
    "version": 3
   },
   "file_extension": ".py",
   "mimetype": "text/x-python",
   "name": "python",
   "nbconvert_exporter": "python",
   "pygments_lexer": "ipython3",
   "version": "3.12.4"
  }
 },
 "nbformat": 4,
 "nbformat_minor": 5
}
